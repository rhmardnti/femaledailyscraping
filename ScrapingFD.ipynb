{
 "cells": [
  {
   "cell_type": "code",
   "execution_count": 1,
   "metadata": {},
   "outputs": [],
   "source": [
    "import requests\n",
    "from bs4 import BeautifulSoup"
   ]
  },
  {
   "cell_type": "code",
   "execution_count": 2,
   "metadata": {},
   "outputs": [],
   "source": [
    "headers ={'User-Agent': 'Mozilla/5.0 (Windows NT 10.0; Win64; x64) AppleWebKit/537.36 (KHTML, like Gecko) Chrome/104.0.0.0 Safari/537.36'}\n",
    "          "
   ]
  },
  {
   "cell_type": "code",
   "execution_count": 3,
   "metadata": {},
   "outputs": [],
   "source": [
    "uname = []\n",
    "userage = []\n",
    "date = []\n",
    "skintype = []\n",
    "oiltype =[]\n",
    "shade =[]\n",
    "tone =[]\n",
    "getrating = []\n",
    "review = []\n",
    "rekomen = []\n",
    "usage_period =[]\n",
    "purchase_point = []      "
   ]
  },
  {
   "cell_type": "code",
   "execution_count": 4,
   "metadata": {},
   "outputs": [],
   "source": [
    "def getReviews(tag,page):\n",
    "    url = f'https://reviews.femaledaily.com/products/treatment/serum-essence-23/avoskin/{tag}?order=newest&page={page}'\n",
    "    r = requests.get(url, headers=headers)\n",
    "    soup = BeautifulSoup(r.text, 'html.parser')\n",
    "    reviews = soup.find_all('div', {'class': 'jsx-2311584302 jsx-212545058 item'})\n",
    "    for item in reviews:    \n",
    "        username = item.find('p', {'class': 'profile-username'}).text\n",
    "        uname.append(username)\n",
    "        age = item.find('p', {'class': 'profile-age'})\n",
    "        userage.append(age)\n",
    "        reviewdate = item.find('p', {'class': 'review-date'}).text\n",
    "        date.append(reviewdate)\n",
    "        \n",
    "        try:\n",
    "            skincond = item.find('p', {'class': 'profile-description'}).text\n",
    "            skin2 = skincond.split(\",\")        \n",
    "            skintype.append(skin2)\n",
    "            oiltype.append(skin2[0])\n",
    "            shade.append(skin2[1])\n",
    "            tone.append(skin2[2])\n",
    "        except IndexError as e:\n",
    "            pass\n",
    "        \n",
    "        rating = len(item.find_all('i', {'class':lambda x: x and 'icon-ic_big_star_full' in x.split()}))\n",
    "        getrating.append(rating)\n",
    "        recommend = item.find('p', {'class':'recommend'})\n",
    "        if recommend == None:\n",
    "            rekomen.append(\"None\")\n",
    "        else:\n",
    "            if \"doesn't recommend\" in recommend.find('b').text:\n",
    "                rekomen.append(\"Not Recommend\")\n",
    "            else:\n",
    "                rekomen.append(\"Recommend\")\n",
    "        textreview = item.find('p', {'class': 'text-content'}).text\n",
    "        review.append(textreview)\n",
    "        infowrapper = item.find('div', class_=\"information-wrapper\")\n",
    "        \n",
    "        \n",
    "        if infowrapper==None:\n",
    "            usage_period.append(\"None\")\n",
    "            purchase_point.append(\"None\")\n",
    "        else :\n",
    "            info2=infowrapper.find_all('b')\n",
    "            \n",
    "            usage_period.append(info2[0].text)\n",
    "            purchase_point.append(info2[1].text)\n",
    "    return\n",
    "    "
   ]
  },
  {
   "cell_type": "code",
   "execution_count": null,
   "metadata": {},
   "outputs": [],
   "source": [
    "url = f'https://reviews.femaledaily.com/products/treatment/serum-essence-23/avoskin/your-skin-bae-serum-1?order=newest&page=0'\n",
    "r = requests.get(url)\n",
    "print(r.status_code)"
   ]
  },
  {
   "cell_type": "code",
   "execution_count": null,
   "metadata": {},
   "outputs": [],
   "source": [
    "from bs4 import BeautifulSoup\n",
    "soup = BeautifulSoup(r.text, 'html.parser')\n",
    "print(soup)"
   ]
  },
  {
   "cell_type": "code",
   "execution_count": null,
   "metadata": {},
   "outputs": [],
   "source": [
    "print(review)"
   ]
  },
  {
   "cell_type": "code",
   "execution_count": 5,
   "metadata": {},
   "outputs": [],
   "source": [
    "for x in range(1,2):\n",
    "    getReviews('your-skin-bae-serum-1', x)"
   ]
  },
  {
   "cell_type": "code",
   "execution_count": null,
   "metadata": {},
   "outputs": [],
   "source": []
  },
  {
   "cell_type": "code",
   "execution_count": 6,
   "metadata": {},
   "outputs": [],
   "source": [
    "import pandas as pd\n",
    "df = pd.DataFrame(list(zip(uname, userage, date, oiltype, shade, tone, getrating, review, rekomen, usage_period, purchase_point )), \n",
    "                  columns =[\"username\", \"age\",\"reviewdate\", \"oiltype\", \"shade\", \"tone\", \"rating\",\"textreview\",\"recommend\",\"usage_period\",\"purchase_point\"])"
   ]
  },
  {
   "cell_type": "code",
   "execution_count": 10,
   "metadata": {},
   "outputs": [
    {
     "name": "stdout",
     "output_type": "stream",
     "text": [
      "['pertama kali pakai produk ini terasa lumayan cekat-cekit dan agak kemerahan, tapi setelah beberapa kali pakai udah aman. pagi nya tekstur kulit terasa lebih halus juga warna kulit sedikit lebih cerah. buat jerawat yang mau muncul juga oke bikin jerawat gajadi muncul. pokoknya super recommend, pemakaian jangka panjang lebih ngefek utk mencerahkan kulit.', 'Bagus banget saat mukanya lagi rewel, kusam, buluk. Awal bakalan ada rasa cekit-cekit gitu, tapi besok pagi wooshhh muka langsung kinclong licin glowinkkk. Dan ini sedikit bikin kering & kulit ngelupas. Jangan lupa mukanya dijaga untuk hidrasinya. Oh ya dan jangan digabung sama moisturizer oil, dia jadi grenjel-grenjel gitu', 'Setelah sekian purnama aku mencari produk yang bisa menuntaskan komedo laknatku yang susah minggat dari wajah cantikku ini, akhirnya kumenemukanmu hihi soalnya aku udh cobain semua dari A-Z viral dikit di toktok pasti kubeli tp ga begitu nendang and finally i found this holygrailâ\\x9d¤ï¸\\x8fâ\\x80\\x8dð\\x9f\\x94¥kecintaanku senenggggg bgtt apalagi pas setelah ku pake mau di kluarin blackhead yang endap itu gampang bgtttttt dan pori2 mengecil walaupun ada efek tingling dan zuzur aku ngga tahan untung aja ada moisturizer yang oke, aku pake moist dari eiem karena kalo moist sekarang kebanyakan ada kandungan niacinamide (krn gaboleh niacinamide sm AHA BHA dicampur karena sama sama bahan aktif bisa bisa muka iritasi or even worse) jadi aku memakai produk yang aman murah dan gemas yaitu step awal setelah cuci muka pake toner Azarine Hydrating soalnya ada ceramidenya terus pakai ini si Lactic acid and then di jeda sampe kering aku pake eiem moisturizer jadinya mukaku ga tingling dan panas dan tada lembuttttttð\\x9f\\x92\\x98', 'First experience dari penggunaan serum ini yaitu efek tingling atau cekat-cekitnya, tapi selama 3 minggu pemakaian rasa cekat-cekitnya makin berkurang kok. Efek mencerahkannya emg berasa, muka jadi ga kusam lagi, setiap bangun tidur rasanya kulit plumpy dan glowing seketika ð\\x9f¤\\xad, dia jg mengurangi tekstur kulit, jadi terasa lebih halus. Lumayan memudarkan bekas jerawat tapi masih butuh waktu yang lebih untuk hasil yang maksimal. Pori-pori aku jg keliatan lebih bersih dari komedo. Hal yang paling menyenangkan dari Serum exfoliasi ini adalah ga bikin kulit jadi kering', 'salah satu produk exfoliating punya avoskin yg mantul juga tapi kalo pake ini harus pake moisturizer yg bikin lembab di muka dan efek awal permata pake ini ada tingling sensation tapi setelah kebiasaan pake engak ada lagi, salah satu recommended juga untuk urusan exfoliating', 'ini serum viral seliweran di fyp tiktok, katanya serum bpom rasa merkuri?! ð\\x9f\\x98®ð\\x9f\\x92¥ tenang-tenang, serum avoskin ini udah pasti BPOM dan gak ada kandungan merkuri-nya gaiiis. cuman emang dikasih julukan \"rasa merkuri\" karena katanya saking bagus efeknya buat ngehempas jerawat permasalahan diwajah. dikemas dalam botol kaca tebal berwarna hijau cerah transparan, dengan tutup berwarna putih dan aplikator pipet. teksturnya gel transparan dgn konsistensi sedikit kental dan gak ada aromanya sama sekali. klaimnya itu mengeksfoliasi kulit secara gentle, aman dipakai mulai usia 15 tahun, serta bumil & busui friendly. btw serum ini termasuk mild exfoliate serum, jadi aku pakainya pas PM routine dengan jarak 3 hari sekali. teksturnya emang rada thick tapi mudah buat di spread, gak lengket dan cukup cepet menyerap ke kulit. awal pemakaian aku ngerasain tingling kayak cekit-cekit gitu. terus dipemakaian kedua aku layering pake serum yg ada kandungan HA, dan ngebantu banget buat ngurangin rasa tinglingnya. aku udah pakai Â± dua mingguan, makin kesini udah gak terasa tingling. urutan pakai-nya tuh hydrating toner - avoskin ysb lactic acid - hydrating serum - moisturizer, dan besok paginya jangan sampe lupa pakai + reapply sunscreen. progress yang aku rasain itu di awal emang muncul tiny bumps warna putih gitu di beberapa spot, tapi dalam beberapa hari ilang dan makin kesini kulit bener-bener jadi terasa halus! kalau kata bts mah smooth like butter, sampe rasanya pengen pegangin muka terus saking halusnya ð\\x9f\\x98\\xadð\\x9f\\x91\\x8cð\\x9f\\x8f» wajah juga keliatan lebih cerah dan gak kusam, kalau untuk bekas jerawat PIH diwajah aku sedikit memudar walaupun belum terlalu signifikan. efeknya emang pelan tapi pasti, menurut ku serum ini emang worth the hype ð\\x9f\\x92\\x9aâ\\x9c¨', 'Awalnya aku berharap besar pd produk ini. ternyata di aku malah bikin keluar jerawat dan beruntusan. aku kira purging, setelah aku lanjut ternyata malah bikin beruntusan makin parah. pori pori juga makin besar. di mana di setiap pori pori ditumbuhi oleh komedo huhu. untuk mencerahkan sih oke ya. tapi malah bikin masalah. my skin barrier is damaged because of this product. sorry to say, avoskin', \"Aku pakai ini di lengan untuk Keratosis Pilaris, 2-3x seminggu, sebelum body lotion. Bantu banget buat menghaluskan dan 'mengeluarkan' bumps-nya. Kalau dipakai tiap hari berasa agak bikin kering, tapi memang kulitku lumayan sensitif. Belum pernah dipakai untuk muka.\", 'beli ini karena kena racun TikTok dan kebetulan lagi diskon besar di shopeemall. awalnya agak takut coba karena baunya aneh gitu. terus pas baru dipake agak cekit2 gitu, tapi itu karena aku salah pakeknya. Harusnya aku pake dalam kulit kering, tapi aku malah pake pas toner masih basah banget terus langsung di layer moist. Dan setelah aku pake besok paginya kulit super glowing sehat gitu, suka banget deh. ini exfo cocok banget untuk org mageran seperti ku karena gak perlu di bilas. pokonya suka banget dehhâ\\xad\\x90â\\xad\\x90â\\xad\\x90â\\xad\\x90â\\xad\\x90â\\xad\\x90â\\xad\\x90â\\xad\\x90â\\xad\\x90â\\xad\\x90', 'aku beli ini karena pengen cobain exfo serum, dan setelah browsing sana sini akhirnya memutuskan pilih si avo ini. surprisingly ternyata secocok itu huhu terharu, di aku sih ga ada rasa cekit cekit gitu yaa, cuma pas paginya langsung yang kinclong plumpy gitu loh kulit wajahku, jangan lupa apply sunscreen yaa guys paginya dan rajin rajin reapply sunscreen biar gak gosong mukanya hihi']\n"
     ]
    }
   ],
   "source": [
    "textreview = item.find('p', {'class': 'text-content'}).text\n",
    "review.append(textreview)\n",
    "print(review)"
   ]
  },
  {
   "cell_type": "code",
   "execution_count": null,
   "metadata": {},
   "outputs": [],
   "source": [
    "import pandas as pd\n",
    "df = pd.DataFrame(list(zip(uname, userage, date, oiltype, shade, tone, getrating, review, rekomen, usage_period, purchase_point )), \n",
    "                  columns =[\"username\", \"age\",\"reviewdate\", \"oiltype\", \"shade\", \"tone\", \"rating\",\"textreview\",\"recommend\",\"usage_period\",\"purchase_point\"])\n",
    "df.to_excel('your-skin-bae-serum-1.xlsx', index=False)"
   ]
  },
  {
   "cell_type": "code",
   "execution_count": null,
   "metadata": {},
   "outputs": [],
   "source": [
    "femaledaily = pd.read_excel(\"x-perfect-hydrating-treatment-essence.xlsx\")\n",
    "femaledaily"
   ]
  },
  {
   "cell_type": "code",
   "execution_count": null,
   "metadata": {},
   "outputs": [],
   "source": []
  }
 ],
 "metadata": {
  "kernelspec": {
   "display_name": "Python 3 (ipykernel)",
   "language": "python",
   "name": "python3"
  },
  "language_info": {
   "codemirror_mode": {
    "name": "ipython",
    "version": 3
   },
   "file_extension": ".py",
   "mimetype": "text/x-python",
   "name": "python",
   "nbconvert_exporter": "python",
   "pygments_lexer": "ipython3",
   "version": "3.9.12"
  }
 },
 "nbformat": 4,
 "nbformat_minor": 4
}
